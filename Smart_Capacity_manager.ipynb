{
  "nbformat": 4,
  "nbformat_minor": 0,
  "metadata": {
    "colab": {
      "provenance": []
    },
    "kernelspec": {
      "name": "python3",
      "display_name": "Python 3"
    },
    "language_info": {
      "name": "python"
    },
    "gpuClass": "standard",
    "accelerator": "GPU"
  },
  "cells": [
    {
      "cell_type": "markdown",
      "source": [
        "**Import de bibliotecas**"
      ],
      "metadata": {
        "id": "rI39b7nK-Yz2"
      }
    },
    {
      "cell_type": "code",
      "execution_count": null,
      "metadata": {
        "id": "mBG0u1k-AqmQ"
      },
      "outputs": [],
      "source": [
        "\n",
        "import numpy as np\n",
        "import pandas as pd\n",
        "import tensorflow as tf\n",
        "from tensorflow.keras.layers import Dense\n",
        "from tensorflow.keras.models import Sequential\n",
        "from sklearn.model_selection import train_test_split\n",
        "from sklearn.preprocessing import StandardScaler\n",
        "from sklearn.metrics import mean_squared_error\n"
      ]
    },
    {
      "cell_type": "markdown",
      "source": [
        "**Acessando recorte de dados**"
      ],
      "metadata": {
        "id": "yD5gvz8p-dvN"
      }
    },
    {
      "cell_type": "code",
      "source": [
        "#habilitando acesso a pasta compartilhada do drive \n",
        "from google.colab import drive\n",
        "drive.mount('/content/drive')"
      ],
      "metadata": {
        "colab": {
          "base_uri": "https://localhost:8080/"
        },
        "id": "YXRDFi1a94OA",
        "outputId": "b4de7a04-836a-40c5-de24-5d0951dff12a"
      },
      "execution_count": null,
      "outputs": [
        {
          "output_type": "stream",
          "name": "stdout",
          "text": [
            "Drive already mounted at /content/drive; to attempt to forcibly remount, call drive.mount(\"/content/drive\", force_remount=True).\n"
          ]
        }
      ]
    },
    {
      "cell_type": "code",
      "source": [
        "# Subindo o arquivo csv com recorte de dados\n",
        "import pandas as pd\n",
        "\n",
        "data = pd.read_csv('/content/drive/Shareddrives/Hack AI Equipe 29/Treinamento IA.csv')"
      ],
      "metadata": {
        "id": "nfDDzgpuwYdK"
      },
      "execution_count": null,
      "outputs": []
    },
    {
      "cell_type": "markdown",
      "source": [
        "**Verificação**"
      ],
      "metadata": {
        "id": "bwzMiXEcDyMi"
      }
    },
    {
      "cell_type": "code",
      "source": [
        "data.describe() #describe inicial"
      ],
      "metadata": {
        "id": "zYjQhshV-vur"
      },
      "execution_count": null,
      "outputs": []
    },
    {
      "cell_type": "code",
      "source": [
        "data.count()"
      ],
      "metadata": {
        "id": "i9aJNlboCnx7"
      },
      "execution_count": null,
      "outputs": []
    },
    {
      "cell_type": "code",
      "source": [
        "# obter os tipos de dados de cada coluna\n",
        "print(data.dtypes)"
      ],
      "metadata": {
        "id": "fbf6CH3fNRQj"
      },
      "execution_count": null,
      "outputs": []
    },
    {
      "cell_type": "markdown",
      "source": [
        "**Treinando o Modelo**"
      ],
      "metadata": {
        "id": "vjzjrKfcDkyz"
      }
    },
    {
      "cell_type": "code",
      "source": [
        "# Divida os dados em conjuntos de treinamento e teste\n",
        "train_data, test_data = train_test_split(data, test_size=0.7, random_state=42)"
      ],
      "metadata": {
        "id": "JpbAGQJmKMGt"
      },
      "execution_count": null,
      "outputs": []
    },
    {
      "cell_type": "code",
      "source": [
        "# Selecione as colunas de interesse\n",
        "features = ['groceries_classification', 'comercial_classification', 'ano','mes','dia','hora', 'dia_semana_prod', 'capacity_hist', 'NRE', \n",
        "            'pedidos_atrasados', 'perc_rupturados','perc_cr', 'ocupacao',\"itens_adiantado\"]\n",
        "target = 'capacidade_ideal'  # Substitua 'capacidade_de_vendas' pela coluna alvo\n",
        "\n",
        "X = train_data[features]\n",
        "y = train_data[target]"
      ],
      "metadata": {
        "id": "OQqifax-bBVp"
      },
      "execution_count": null,
      "outputs": []
    },
    {
      "cell_type": "code",
      "source": [
        "# Divida os dados em conjuntos de treinamento e teste\n",
        "X_train, X_test, y_train, y_test = train_test_split(X, y, test_size=0.2, random_state=42)\n"
      ],
      "metadata": {
        "id": "hB8lzggnFRFC"
      },
      "execution_count": null,
      "outputs": []
    },
    {
      "cell_type": "code",
      "source": [
        "# Normalize os dados\n",
        "scaler = StandardScaler()\n",
        "X_train = scaler.fit_transform(X_train)\n",
        "X_test = scaler.transform(X_test)"
      ],
      "metadata": {
        "id": "2OeWd7WWFTmk"
      },
      "execution_count": null,
      "outputs": []
    },
    {
      "cell_type": "code",
      "source": [
        "# Defina a arquitetura da rede neural\n",
        "model = Sequential([\n",
        "    Dense(64, activation='relu', input_shape=(len(features),)),\n",
        "    Dense(32, activation='relu'),\n",
        "    Dense(1)\n",
        "])\n",
        "\n",
        "# Compile o modelo\n",
        "model.compile(optimizer='adam',loss='mse', metrics=['mae'])\n",
        "\n",
        "# Treine o modelo\n",
        "history = model.fit(X_train, y_train, epochs=20, batch_size=32, validation_split=0.2, verbose=1)"
      ],
      "metadata": {
        "id": "5zUSiw0mpx4T",
        "colab": {
          "base_uri": "https://localhost:8080/"
        },
        "outputId": "164e3b9c-4303-4b2e-f384-8d4d1bcd5e16"
      },
      "execution_count": null,
      "outputs": [
        {
          "output_type": "stream",
          "name": "stdout",
          "text": [
            "Epoch 1/20\n",
            "137682/137682 [==============================] - 537s 4ms/step - loss: 1316.9802 - mae: 5.7413 - val_loss: 885.4557 - val_mae: 8.0406\n",
            "Epoch 2/20\n",
            "137682/137682 [==============================] - 545s 4ms/step - loss: 1445.5739 - mae: 4.2332 - val_loss: 885.6303 - val_mae: 3.5727\n",
            "Epoch 3/20\n",
            "137682/137682 [==============================] - 536s 4ms/step - loss: 1015.1542 - mae: 3.7212 - val_loss: 1039.5264 - val_mae: 2.7018\n",
            "Epoch 4/20\n",
            "137682/137682 [==============================] - 525s 4ms/step - loss: 1318.1780 - mae: 3.6205 - val_loss: 1543.0546 - val_mae: 2.6939\n",
            "Epoch 5/20\n",
            "137682/137682 [==============================] - 542s 4ms/step - loss: 945.9946 - mae: 3.2543 - val_loss: 522.7263 - val_mae: 2.0481\n",
            "Epoch 6/20\n",
            "137682/137682 [==============================] - 515s 4ms/step - loss: 831.7671 - mae: 3.1195 - val_loss: 1648.2517 - val_mae: 5.6983\n",
            "Epoch 7/20\n",
            "137682/137682 [==============================] - 508s 4ms/step - loss: 766.7152 - mae: 3.2824 - val_loss: 1687.1479 - val_mae: 1.9289\n",
            "Epoch 8/20\n",
            "137682/137682 [==============================] - 527s 4ms/step - loss: 1574.4895 - mae: 2.9752 - val_loss: 1105.7332 - val_mae: 1.8568\n",
            "Epoch 9/20\n",
            "137682/137682 [==============================] - 538s 4ms/step - loss: 764.8119 - mae: 3.1090 - val_loss: 814.3372 - val_mae: 1.8326\n",
            "Epoch 10/20\n",
            "137682/137682 [==============================] - 527s 4ms/step - loss: 866.5089 - mae: 3.1830 - val_loss: 624.3011 - val_mae: 2.2168\n",
            "Epoch 11/20\n",
            "137682/137682 [==============================] - 526s 4ms/step - loss: 847.4359 - mae: 3.2981 - val_loss: 338.3267 - val_mae: 2.6166\n",
            "Epoch 12/20\n",
            "137682/137682 [==============================] - 528s 4ms/step - loss: 622.5148 - mae: 2.7926 - val_loss: 1830.3448 - val_mae: 1.9699\n",
            "Epoch 13/20\n",
            "137682/137682 [==============================] - 504s 4ms/step - loss: 498.1845 - mae: 3.1235 - val_loss: 561.7032 - val_mae: 1.7259\n",
            "Epoch 14/20\n",
            "137682/137682 [==============================] - 503s 4ms/step - loss: 705.6026 - mae: 2.8021 - val_loss: 551.1729 - val_mae: 8.9827\n",
            "Epoch 15/20\n",
            "137682/137682 [==============================] - 523s 4ms/step - loss: 916.6314 - mae: 3.1251 - val_loss: 1086.6166 - val_mae: 2.2182\n",
            "Epoch 16/20\n",
            "137682/137682 [==============================] - 523s 4ms/step - loss: 417.5938 - mae: 2.7984 - val_loss: 616.4551 - val_mae: 1.4041\n",
            "Epoch 17/20\n",
            "137682/137682 [==============================] - 496s 4ms/step - loss: 261.3107 - mae: 2.6381 - val_loss: 328.6033 - val_mae: 1.9031\n",
            "Epoch 18/20\n",
            "137682/137682 [==============================] - 498s 4ms/step - loss: 583.8906 - mae: 2.9393 - val_loss: 497.8603 - val_mae: 5.9511\n",
            "Epoch 19/20\n",
            "137682/137682 [==============================] - 523s 4ms/step - loss: 505.9529 - mae: 2.8518 - val_loss: 355.8477 - val_mae: 1.8534\n",
            "Epoch 20/20\n",
            "137682/137682 [==============================] - 500s 4ms/step - loss: 592.2568 - mae: 2.9516 - val_loss: 1282.0157 - val_mae: 1.4422\n"
          ]
        }
      ]
    },
    {
      "cell_type": "code",
      "source": [
        "#Salvando o modelo\n",
        "model.save('smart_dynamic_capacity_manager.h5')\n",
        "\n",
        "!cp smart_capacity.h5 \"/content/drive/Shareddrives/Hack AI Equipe 29/\""
      ],
      "metadata": {
        "colab": {
          "base_uri": "https://localhost:8080/"
        },
        "id": "ssPzTKp6-D3-",
        "outputId": "db971118-b741-4bf6-9df1-f1e49ae386b5"
      },
      "execution_count": null,
      "outputs": [
        {
          "output_type": "stream",
          "name": "stdout",
          "text": [
            "cp: cannot stat 'smart_capacity.h5': No such file or directory\n"
          ]
        }
      ]
    },
    {
      "cell_type": "code",
      "source": [
        "# Divida os dados em conjuntos de treinamento e teste\n",
        "validation_data, validation_test_data = train_test_split(test_data, test_size=0.10, random_state=42)"
      ],
      "metadata": {
        "id": "KOmk43mCB690"
      },
      "execution_count": null,
      "outputs": []
    },
    {
      "cell_type": "code",
      "source": [
        "#2. Carregue o modelo salvo:\n",
        "from sklearn.metrics import mean_squared_error, mean_absolute_error\n",
        "from tensorflow.keras.models import load_model\n",
        "\n",
        "modelo_carregado = load_model('smart_dynamic_capacity_manager.h5')\n",
        "\n",
        "#Para testar sua RNA e obter previsões para os dados de Y com base nos dados de entrada de X\n",
        "\n",
        "# Fazer previsões para o conjunto de teste - modelo de entrada de dados para X :\n",
        "#'groceries_classification' Numeros (INT), 'comercial_classification' Numeros (INT),\n",
        "# 'ano','mes','dia','hora', 'dia_semana_prod', 'capacity_hist', 'NRE',\n",
        "#'pedidos_atrasados', 'perc_rupturados','perc_cr', 'ocupacao'\n",
        "\n",
        "X_test = validation_data\n",
        "\n",
        "y_pred = modelo_carregado.predict(X_test)\n",
        "\n",
        "print(y_pred)\n",
        "# criando um DataFrame do pandas com os dados de teste e as previsões\n",
        "df = pd.DataFrame({\"X_test\", \"y_pred\"})\n",
        "\n",
        "# imprimindo os dados de teste e as previsões no console\n",
        "print(df)\n",
        "\n",
        "# salvando os dados em um arquivo CSV\n",
        "df.to_csv('saida_modelo.csv', index=False)\n",
        "\n",
        "# Avaliar as previsões\n",
        "from sklearn.metrics import mean_squared_error, mean_absolute_error\n",
        "mse = mean_squared_error(y_test, y_pred)\n",
        "mae = mean_absolute_error(y_test, y_pred)\n",
        "print(\"MSE: \", mse)\n",
        "print(\"MAE: \", mae)"
      ],
      "metadata": {
        "id": "6o_jK2RA4eLo"
      },
      "execution_count": null,
      "outputs": []
    }
  ]
}